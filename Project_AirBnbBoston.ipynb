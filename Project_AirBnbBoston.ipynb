{
 "cells": [
  {
   "cell_type": "code",
   "execution_count": 1,
   "metadata": {},
   "outputs": [],
   "source": [
    "import pandas as pd\n",
    "import numpy as np"
   ]
  },
  {
   "cell_type": "code",
   "execution_count": 2,
   "metadata": {},
   "outputs": [],
   "source": [
    "dfcal = pd.read_csv(r'D:\\DS_MyWorks\\Data_Sample\\AirBnb_boston\\calendar.csv')\n",
    "dflist = pd.read_csv(r'D:\\DS_MyWorks\\Data_Sample\\AirBnb_boston\\listings.csv')\n",
    "dfreview = pd.read_csv(r'D:\\DS_MyWorks\\Data_Sample\\AirBnb_boston\\reviews.csv')\n"
   ]
  },
  {
   "cell_type": "code",
   "execution_count": 3,
   "metadata": {},
   "outputs": [],
   "source": [
    "dfcal['available'] =dfcal['available'].apply(lambda x: 1 if x =='t' else 0)\n",
    "\n",
    "dfcal_group = pd.DataFrame(dfcal.groupby(by=['listing_id'])['available'].mean())\n",
    "dflistindex = dflist.set_index('id')\n",
    "dflist = pd.concat([dfcal_group, dflistindex], axis = 1)"
   ]
  },
  {
   "cell_type": "code",
   "execution_count": 4,
   "metadata": {
    "scrolled": true
   },
   "outputs": [
    {
     "data": {
      "text/html": [
       "<div>\n",
       "<style scoped>\n",
       "    .dataframe tbody tr th:only-of-type {\n",
       "        vertical-align: middle;\n",
       "    }\n",
       "\n",
       "    .dataframe tbody tr th {\n",
       "        vertical-align: top;\n",
       "    }\n",
       "\n",
       "    .dataframe thead th {\n",
       "        text-align: right;\n",
       "    }\n",
       "</style>\n",
       "<table border=\"1\" class=\"dataframe\">\n",
       "  <thead>\n",
       "    <tr style=\"text-align: right;\">\n",
       "      <th></th>\n",
       "      <th>available</th>\n",
       "      <th>listing_url</th>\n",
       "      <th>scrape_id</th>\n",
       "      <th>last_scraped</th>\n",
       "      <th>name</th>\n",
       "      <th>summary</th>\n",
       "      <th>space</th>\n",
       "      <th>description</th>\n",
       "      <th>experiences_offered</th>\n",
       "      <th>neighborhood_overview</th>\n",
       "      <th>...</th>\n",
       "      <th>review_scores_value</th>\n",
       "      <th>requires_license</th>\n",
       "      <th>license</th>\n",
       "      <th>jurisdiction_names</th>\n",
       "      <th>instant_bookable</th>\n",
       "      <th>cancellation_policy</th>\n",
       "      <th>require_guest_profile_picture</th>\n",
       "      <th>require_guest_phone_verification</th>\n",
       "      <th>calculated_host_listings_count</th>\n",
       "      <th>reviews_per_month</th>\n",
       "    </tr>\n",
       "  </thead>\n",
       "  <tbody>\n",
       "    <tr>\n",
       "      <th>3353</th>\n",
       "      <td>0.682192</td>\n",
       "      <td>https://www.airbnb.com/rooms/3353</td>\n",
       "      <td>20160906204935</td>\n",
       "      <td>2016-09-07</td>\n",
       "      <td>Private &amp; Small for Solo Travelers</td>\n",
       "      <td>Clean and comfortable room, good for short ter...</td>\n",
       "      <td>Hey Traveler! We have a nice apartment about 3...</td>\n",
       "      <td>Clean and comfortable room, good for short ter...</td>\n",
       "      <td>none</td>\n",
       "      <td>NaN</td>\n",
       "      <td>...</td>\n",
       "      <td>9.0</td>\n",
       "      <td>f</td>\n",
       "      <td>NaN</td>\n",
       "      <td>NaN</td>\n",
       "      <td>f</td>\n",
       "      <td>strict</td>\n",
       "      <td>f</td>\n",
       "      <td>f</td>\n",
       "      <td>2</td>\n",
       "      <td>0.38</td>\n",
       "    </tr>\n",
       "    <tr>\n",
       "      <th>5506</th>\n",
       "      <td>0.942466</td>\n",
       "      <td>https://www.airbnb.com/rooms/5506</td>\n",
       "      <td>20160906204935</td>\n",
       "      <td>2016-09-07</td>\n",
       "      <td>$99 Special! Hotel Alternative!</td>\n",
       "      <td>NaN</td>\n",
       "      <td>**THE BEST Value in BOSTON!!*** PRIVATE GUEST ...</td>\n",
       "      <td>**THE BEST Value in BOSTON!!*** PRIVATE GUEST ...</td>\n",
       "      <td>none</td>\n",
       "      <td>Peacful, Architecturally interesting, histori...</td>\n",
       "      <td>...</td>\n",
       "      <td>10.0</td>\n",
       "      <td>f</td>\n",
       "      <td>NaN</td>\n",
       "      <td>NaN</td>\n",
       "      <td>f</td>\n",
       "      <td>strict</td>\n",
       "      <td>f</td>\n",
       "      <td>f</td>\n",
       "      <td>6</td>\n",
       "      <td>0.40</td>\n",
       "    </tr>\n",
       "    <tr>\n",
       "      <th>6695</th>\n",
       "      <td>0.887671</td>\n",
       "      <td>https://www.airbnb.com/rooms/6695</td>\n",
       "      <td>20160906204935</td>\n",
       "      <td>2016-09-07</td>\n",
       "      <td>$125 Special!! Home Away! Condo</td>\n",
       "      <td>NaN</td>\n",
       "      <td>** WELCOME *** FULL PRIVATE APARTMENT In a His...</td>\n",
       "      <td>** WELCOME *** FULL PRIVATE APARTMENT In a His...</td>\n",
       "      <td>none</td>\n",
       "      <td>Peaceful, Architecturally interesting, histori...</td>\n",
       "      <td>...</td>\n",
       "      <td>9.0</td>\n",
       "      <td>f</td>\n",
       "      <td>NaN</td>\n",
       "      <td>NaN</td>\n",
       "      <td>f</td>\n",
       "      <td>strict</td>\n",
       "      <td>f</td>\n",
       "      <td>f</td>\n",
       "      <td>6</td>\n",
       "      <td>0.54</td>\n",
       "    </tr>\n",
       "    <tr>\n",
       "      <th>6976</th>\n",
       "      <td>0.873973</td>\n",
       "      <td>https://www.airbnb.com/rooms/6976</td>\n",
       "      <td>20160906204935</td>\n",
       "      <td>2016-09-07</td>\n",
       "      <td>Mexican Folk Art Haven in Boston</td>\n",
       "      <td>Come stay with a friendly, middle-aged guy in ...</td>\n",
       "      <td>Come stay with a friendly, middle-aged guy in ...</td>\n",
       "      <td>Come stay with a friendly, middle-aged guy in ...</td>\n",
       "      <td>none</td>\n",
       "      <td>The LOCATION: Roslindale is a safe and diverse...</td>\n",
       "      <td>...</td>\n",
       "      <td>10.0</td>\n",
       "      <td>f</td>\n",
       "      <td>NaN</td>\n",
       "      <td>NaN</td>\n",
       "      <td>f</td>\n",
       "      <td>moderate</td>\n",
       "      <td>t</td>\n",
       "      <td>f</td>\n",
       "      <td>1</td>\n",
       "      <td>0.47</td>\n",
       "    </tr>\n",
       "    <tr>\n",
       "      <th>8792</th>\n",
       "      <td>0.679452</td>\n",
       "      <td>https://www.airbnb.com/rooms/8792</td>\n",
       "      <td>20160906204935</td>\n",
       "      <td>2016-09-07</td>\n",
       "      <td>Large 1 Bed facing State House</td>\n",
       "      <td>NO Marathon rentals yet. Fully furnished 1bed ...</td>\n",
       "      <td>Note: We are not yet booking for the Marathon....</td>\n",
       "      <td>NO Marathon rentals yet. Fully furnished 1bed ...</td>\n",
       "      <td>none</td>\n",
       "      <td>NaN</td>\n",
       "      <td>...</td>\n",
       "      <td>10.0</td>\n",
       "      <td>f</td>\n",
       "      <td>NaN</td>\n",
       "      <td>NaN</td>\n",
       "      <td>f</td>\n",
       "      <td>moderate</td>\n",
       "      <td>f</td>\n",
       "      <td>f</td>\n",
       "      <td>10</td>\n",
       "      <td>0.21</td>\n",
       "    </tr>\n",
       "  </tbody>\n",
       "</table>\n",
       "<p>5 rows × 95 columns</p>\n",
       "</div>"
      ],
      "text/plain": [
       "      available                        listing_url       scrape_id  \\\n",
       "3353   0.682192  https://www.airbnb.com/rooms/3353  20160906204935   \n",
       "5506   0.942466  https://www.airbnb.com/rooms/5506  20160906204935   \n",
       "6695   0.887671  https://www.airbnb.com/rooms/6695  20160906204935   \n",
       "6976   0.873973  https://www.airbnb.com/rooms/6976  20160906204935   \n",
       "8792   0.679452  https://www.airbnb.com/rooms/8792  20160906204935   \n",
       "\n",
       "     last_scraped                                name  \\\n",
       "3353   2016-09-07  Private & Small for Solo Travelers   \n",
       "5506   2016-09-07     $99 Special! Hotel Alternative!   \n",
       "6695   2016-09-07     $125 Special!! Home Away! Condo   \n",
       "6976   2016-09-07    Mexican Folk Art Haven in Boston   \n",
       "8792   2016-09-07      Large 1 Bed facing State House   \n",
       "\n",
       "                                                summary  \\\n",
       "3353  Clean and comfortable room, good for short ter...   \n",
       "5506                                                NaN   \n",
       "6695                                                NaN   \n",
       "6976  Come stay with a friendly, middle-aged guy in ...   \n",
       "8792  NO Marathon rentals yet. Fully furnished 1bed ...   \n",
       "\n",
       "                                                  space  \\\n",
       "3353  Hey Traveler! We have a nice apartment about 3...   \n",
       "5506  **THE BEST Value in BOSTON!!*** PRIVATE GUEST ...   \n",
       "6695  ** WELCOME *** FULL PRIVATE APARTMENT In a His...   \n",
       "6976  Come stay with a friendly, middle-aged guy in ...   \n",
       "8792  Note: We are not yet booking for the Marathon....   \n",
       "\n",
       "                                            description experiences_offered  \\\n",
       "3353  Clean and comfortable room, good for short ter...                none   \n",
       "5506  **THE BEST Value in BOSTON!!*** PRIVATE GUEST ...                none   \n",
       "6695  ** WELCOME *** FULL PRIVATE APARTMENT In a His...                none   \n",
       "6976  Come stay with a friendly, middle-aged guy in ...                none   \n",
       "8792  NO Marathon rentals yet. Fully furnished 1bed ...                none   \n",
       "\n",
       "                                  neighborhood_overview  ...  \\\n",
       "3353                                                NaN  ...   \n",
       "5506   Peacful, Architecturally interesting, histori...  ...   \n",
       "6695  Peaceful, Architecturally interesting, histori...  ...   \n",
       "6976  The LOCATION: Roslindale is a safe and diverse...  ...   \n",
       "8792                                                NaN  ...   \n",
       "\n",
       "     review_scores_value requires_license license jurisdiction_names  \\\n",
       "3353                 9.0                f     NaN                NaN   \n",
       "5506                10.0                f     NaN                NaN   \n",
       "6695                 9.0                f     NaN                NaN   \n",
       "6976                10.0                f     NaN                NaN   \n",
       "8792                10.0                f     NaN                NaN   \n",
       "\n",
       "     instant_bookable cancellation_policy require_guest_profile_picture  \\\n",
       "3353                f              strict                             f   \n",
       "5506                f              strict                             f   \n",
       "6695                f              strict                             f   \n",
       "6976                f            moderate                             t   \n",
       "8792                f            moderate                             f   \n",
       "\n",
       "     require_guest_phone_verification calculated_host_listings_count  \\\n",
       "3353                                f                              2   \n",
       "5506                                f                              6   \n",
       "6695                                f                              6   \n",
       "6976                                f                              1   \n",
       "8792                                f                             10   \n",
       "\n",
       "      reviews_per_month  \n",
       "3353               0.38  \n",
       "5506               0.40  \n",
       "6695               0.54  \n",
       "6976               0.47  \n",
       "8792               0.21  \n",
       "\n",
       "[5 rows x 95 columns]"
      ]
     },
     "execution_count": 4,
     "metadata": {},
     "output_type": "execute_result"
    }
   ],
   "source": [
    "dflist.head(5)"
   ]
  },
  {
   "cell_type": "code",
   "execution_count": 5,
   "metadata": {
    "scrolled": true
   },
   "outputs": [
    {
     "data": {
      "text/plain": [
       "'\\n151515\\n'"
      ]
     },
     "execution_count": 5,
     "metadata": {},
     "output_type": "execute_result"
    }
   ],
   "source": [
    "col_to_use = ['host_response_time','host_is_superhost',\n",
    "       'host_listings_count','host_identity_verified','neighbourhood_cleansed','property_type','room_type',\n",
    "       'bathrooms','bedrooms','beds','bed_type','price',\n",
    "       'guests_included','extra_people','minimum_nights','maximum_nights',\n",
    "       'availability_30','availability_60','availability_90','availability_365',\n",
    "       'number_of_reviews','review_scores_rating',\n",
    "       'require_guest_phone_verification',\n",
    "       'calculated_host_listings_count','reviews_per_month','amenities']\n",
    "\"\"\"\n",
    "151515\n",
    "\"\"\"\n",
    "\n"
   ]
  },
  {
   "cell_type": "code",
   "execution_count": 6,
   "metadata": {},
   "outputs": [
    {
     "data": {
      "text/plain": [
       "(3585, 95)"
      ]
     },
     "execution_count": 6,
     "metadata": {},
     "output_type": "execute_result"
    }
   ],
   "source": [
    "dflist.shape\n",
    "\n",
    "\n"
   ]
  },
  {
   "cell_type": "markdown",
   "metadata": {},
   "source": [
    "**\n",
    "\n",
    "---\n",
    "**"
   ]
  },
  {
   "cell_type": "markdown",
   "metadata": {},
   "source": [
    "# Preprocessing of Zipcode"
   ]
  },
  {
   "cell_type": "markdown",
   "metadata": {},
   "source": [
    "Purpose  : **Organizing of Zipcode** <br>\n",
    "Method   : Before using **One Hot Encoding method**, zip codes that has **less than 60 listings** are assigned to **'02000'** to decrease extra new columns."
   ]
  },
  {
   "cell_type": "code",
   "execution_count": 7,
   "metadata": {},
   "outputs": [
    {
     "data": {
      "text/plain": [
       "02000    392\n",
       "02116    388\n",
       "02130    331\n",
       "02118    247\n",
       "02215    236\n",
       "Name: zipcode, dtype: int64"
      ]
     },
     "execution_count": 7,
     "metadata": {},
     "output_type": "execute_result"
    }
   ],
   "source": [
    "zip_columns = list(pd.DataFrame(dflist['zipcode'].value_counts().head(19).index)[0])\n",
    "\n",
    "dflist['zipcode'] = dflist['zipcode'].apply(lambda x: x if x in zip_columns else '02000')\n",
    "dflist['zipcode'].value_counts().head()"
   ]
  },
  {
   "cell_type": "markdown",
   "metadata": {},
   "source": [
    "**\n",
    "\n",
    "---\n",
    "**"
   ]
  },
  {
   "cell_type": "markdown",
   "metadata": {},
   "source": [
    "# Preprocessing of Price"
   ]
  },
  {
   "cell_type": "markdown",
   "metadata": {},
   "source": [
    "Purpose  : **Cleaning of Price** Stripping of ` $ ` and decimal point(` .00 `) <br>\n",
    "Instance : '$250.00'  > string <br>\n",
    "Goal     :   250      > int"
   ]
  },
  {
   "cell_type": "code",
   "execution_count": 8,
   "metadata": {},
   "outputs": [
    {
     "data": {
      "text/html": [
       "<div>\n",
       "<style scoped>\n",
       "    .dataframe tbody tr th:only-of-type {\n",
       "        vertical-align: middle;\n",
       "    }\n",
       "\n",
       "    .dataframe tbody tr th {\n",
       "        vertical-align: top;\n",
       "    }\n",
       "\n",
       "    .dataframe thead th {\n",
       "        text-align: right;\n",
       "    }\n",
       "</style>\n",
       "<table border=\"1\" class=\"dataframe\">\n",
       "  <thead>\n",
       "    <tr style=\"text-align: right;\">\n",
       "      <th></th>\n",
       "      <th>price</th>\n",
       "    </tr>\n",
       "  </thead>\n",
       "  <tbody>\n",
       "    <tr>\n",
       "      <th>3353</th>\n",
       "      <td>$40.00</td>\n",
       "    </tr>\n",
       "    <tr>\n",
       "      <th>5506</th>\n",
       "      <td>$145.00</td>\n",
       "    </tr>\n",
       "    <tr>\n",
       "      <th>6695</th>\n",
       "      <td>$195.00</td>\n",
       "    </tr>\n",
       "    <tr>\n",
       "      <th>6976</th>\n",
       "      <td>$65.00</td>\n",
       "    </tr>\n",
       "    <tr>\n",
       "      <th>8792</th>\n",
       "      <td>$154.00</td>\n",
       "    </tr>\n",
       "  </tbody>\n",
       "</table>\n",
       "</div>"
      ],
      "text/plain": [
       "        price\n",
       "3353   $40.00\n",
       "5506  $145.00\n",
       "6695  $195.00\n",
       "6976   $65.00\n",
       "8792  $154.00"
      ]
     },
     "execution_count": 8,
     "metadata": {},
     "output_type": "execute_result"
    }
   ],
   "source": [
    "dflist[['price']].head(5)"
   ]
  },
  {
   "cell_type": "code",
   "execution_count": 9,
   "metadata": {},
   "outputs": [
    {
     "data": {
      "text/plain": [
       "'40'"
      ]
     },
     "execution_count": 9,
     "metadata": {},
     "output_type": "execute_result"
    }
   ],
   "source": [
    "dflist['price'][3353][1:-3]"
   ]
  },
  {
   "cell_type": "code",
   "execution_count": 10,
   "metadata": {
    "scrolled": true
   },
   "outputs": [],
   "source": [
    "# Stripping of $ and .00\n",
    "\n",
    "dflist['price'] = dflist['price'].apply(lambda x: int(x[1:-3].replace(\",\", \"\")))\n"
   ]
  },
  {
   "cell_type": "code",
   "execution_count": 11,
   "metadata": {},
   "outputs": [
    {
     "data": {
      "text/html": [
       "<div>\n",
       "<style scoped>\n",
       "    .dataframe tbody tr th:only-of-type {\n",
       "        vertical-align: middle;\n",
       "    }\n",
       "\n",
       "    .dataframe tbody tr th {\n",
       "        vertical-align: top;\n",
       "    }\n",
       "\n",
       "    .dataframe thead th {\n",
       "        text-align: right;\n",
       "    }\n",
       "</style>\n",
       "<table border=\"1\" class=\"dataframe\">\n",
       "  <thead>\n",
       "    <tr style=\"text-align: right;\">\n",
       "      <th></th>\n",
       "      <th>price</th>\n",
       "    </tr>\n",
       "  </thead>\n",
       "  <tbody>\n",
       "    <tr>\n",
       "      <th>9218312</th>\n",
       "      <td>95</td>\n",
       "    </tr>\n",
       "    <tr>\n",
       "      <th>6939162</th>\n",
       "      <td>130</td>\n",
       "    </tr>\n",
       "    <tr>\n",
       "      <th>12815192</th>\n",
       "      <td>175</td>\n",
       "    </tr>\n",
       "    <tr>\n",
       "      <th>5445126</th>\n",
       "      <td>175</td>\n",
       "    </tr>\n",
       "    <tr>\n",
       "      <th>4315439</th>\n",
       "      <td>80</td>\n",
       "    </tr>\n",
       "  </tbody>\n",
       "</table>\n",
       "</div>"
      ],
      "text/plain": [
       "          price\n",
       "9218312      95\n",
       "6939162     130\n",
       "12815192    175\n",
       "5445126     175\n",
       "4315439      80"
      ]
     },
     "execution_count": 11,
     "metadata": {},
     "output_type": "execute_result"
    }
   ],
   "source": [
    "dflist[['price']].sample(5)"
   ]
  },
  {
   "cell_type": "code",
   "execution_count": null,
   "metadata": {},
   "outputs": [],
   "source": []
  },
  {
   "cell_type": "markdown",
   "metadata": {},
   "source": [
    "# Preprocessing of Extra Guest Cost"
   ]
  },
  {
   "cell_type": "markdown",
   "metadata": {},
   "source": [
    "Purpose  : **Cleaning of 'extra_people'** Stripping of ` $ ` and decimal point(` .00 `) <br>\n",
    "Instance : '$250.00'  > string <br>\n",
    "Goal     :   250      > int\n",
    "\n",
    "'extra_people'"
   ]
  },
  {
   "cell_type": "code",
   "execution_count": 12,
   "metadata": {},
   "outputs": [
    {
     "data": {
      "text/html": [
       "<div>\n",
       "<style scoped>\n",
       "    .dataframe tbody tr th:only-of-type {\n",
       "        vertical-align: middle;\n",
       "    }\n",
       "\n",
       "    .dataframe tbody tr th {\n",
       "        vertical-align: top;\n",
       "    }\n",
       "\n",
       "    .dataframe thead th {\n",
       "        text-align: right;\n",
       "    }\n",
       "</style>\n",
       "<table border=\"1\" class=\"dataframe\">\n",
       "  <thead>\n",
       "    <tr style=\"text-align: right;\">\n",
       "      <th></th>\n",
       "      <th>extra_people</th>\n",
       "    </tr>\n",
       "  </thead>\n",
       "  <tbody>\n",
       "    <tr>\n",
       "      <th>3353</th>\n",
       "      <td>$0.00</td>\n",
       "    </tr>\n",
       "    <tr>\n",
       "      <th>5506</th>\n",
       "      <td>$0.00</td>\n",
       "    </tr>\n",
       "    <tr>\n",
       "      <th>6695</th>\n",
       "      <td>$8.00</td>\n",
       "    </tr>\n",
       "    <tr>\n",
       "      <th>6976</th>\n",
       "      <td>$20.00</td>\n",
       "    </tr>\n",
       "    <tr>\n",
       "      <th>8792</th>\n",
       "      <td>$0.00</td>\n",
       "    </tr>\n",
       "  </tbody>\n",
       "</table>\n",
       "</div>"
      ],
      "text/plain": [
       "     extra_people\n",
       "3353        $0.00\n",
       "5506        $0.00\n",
       "6695        $8.00\n",
       "6976       $20.00\n",
       "8792        $0.00"
      ]
     },
     "execution_count": 12,
     "metadata": {},
     "output_type": "execute_result"
    }
   ],
   "source": [
    "dflist[['extra_people']].head(5)"
   ]
  },
  {
   "cell_type": "code",
   "execution_count": 13,
   "metadata": {},
   "outputs": [
    {
     "data": {
      "text/plain": [
       "'$20.00'"
      ]
     },
     "execution_count": 13,
     "metadata": {},
     "output_type": "execute_result"
    }
   ],
   "source": [
    "dflist['extra_people'][6976]"
   ]
  },
  {
   "cell_type": "code",
   "execution_count": 14,
   "metadata": {
    "scrolled": true
   },
   "outputs": [],
   "source": [
    "# Stripping of $ and .00\n",
    "\n",
    "dflist['extra_people'] = dflist['extra_people'].apply(lambda x: int(x[1:-3]))\n"
   ]
  },
  {
   "cell_type": "code",
   "execution_count": 15,
   "metadata": {},
   "outputs": [
    {
     "data": {
      "text/html": [
       "<div>\n",
       "<style scoped>\n",
       "    .dataframe tbody tr th:only-of-type {\n",
       "        vertical-align: middle;\n",
       "    }\n",
       "\n",
       "    .dataframe tbody tr th {\n",
       "        vertical-align: top;\n",
       "    }\n",
       "\n",
       "    .dataframe thead th {\n",
       "        text-align: right;\n",
       "    }\n",
       "</style>\n",
       "<table border=\"1\" class=\"dataframe\">\n",
       "  <thead>\n",
       "    <tr style=\"text-align: right;\">\n",
       "      <th></th>\n",
       "      <th>extra_people</th>\n",
       "    </tr>\n",
       "  </thead>\n",
       "  <tbody>\n",
       "    <tr>\n",
       "      <th>4105704</th>\n",
       "      <td>0</td>\n",
       "    </tr>\n",
       "    <tr>\n",
       "      <th>14898146</th>\n",
       "      <td>50</td>\n",
       "    </tr>\n",
       "    <tr>\n",
       "      <th>14231732</th>\n",
       "      <td>0</td>\n",
       "    </tr>\n",
       "    <tr>\n",
       "      <th>9570618</th>\n",
       "      <td>0</td>\n",
       "    </tr>\n",
       "    <tr>\n",
       "      <th>5858133</th>\n",
       "      <td>0</td>\n",
       "    </tr>\n",
       "  </tbody>\n",
       "</table>\n",
       "</div>"
      ],
      "text/plain": [
       "          extra_people\n",
       "4105704              0\n",
       "14898146            50\n",
       "14231732             0\n",
       "9570618              0\n",
       "5858133              0"
      ]
     },
     "execution_count": 15,
     "metadata": {},
     "output_type": "execute_result"
    }
   ],
   "source": [
    "dflist[['extra_people']].sample(5)"
   ]
  },
  {
   "cell_type": "markdown",
   "metadata": {},
   "source": [
    "**\n",
    "\n",
    "---\n",
    "**"
   ]
  },
  {
   "cell_type": "markdown",
   "metadata": {},
   "source": [
    "# Preprocessing of Amenities"
   ]
  },
  {
   "cell_type": "markdown",
   "metadata": {},
   "source": [
    "Let's transfer the number of attributes in `  'amenities'  ` to a column. (row based)"
   ]
  },
  {
   "cell_type": "code",
   "execution_count": 16,
   "metadata": {},
   "outputs": [],
   "source": [
    "# the number of attributes\n",
    "\n",
    "dflist['amenities'] = dflist['amenities'].apply(lambda x: x.count(',')+1)"
   ]
  },
  {
   "cell_type": "markdown",
   "metadata": {},
   "source": [
    "# Preprocessing of reviews_per_month\n",
    "\n",
    "Empty values are most probably  the ones that does not have any comment"
   ]
  },
  {
   "cell_type": "code",
   "execution_count": 17,
   "metadata": {},
   "outputs": [],
   "source": [
    "dflist['reviews_per_month'].fillna(0, inplace=True)"
   ]
  },
  {
   "cell_type": "code",
   "execution_count": null,
   "metadata": {},
   "outputs": [],
   "source": []
  },
  {
   "cell_type": "markdown",
   "metadata": {},
   "source": [
    "# Preprocessing of require_guest_phone_verification"
   ]
  },
  {
   "cell_type": "code",
   "execution_count": 18,
   "metadata": {},
   "outputs": [],
   "source": [
    "# Applying with true_false function\n",
    "\n",
    "dflist['require_guest_phone_verification'] = dflist['require_guest_phone_verification'].apply(\n",
    "    lambda x: 1 if x =='t' else 0) \n"
   ]
  },
  {
   "cell_type": "code",
   "execution_count": 19,
   "metadata": {},
   "outputs": [],
   "source": [
    "dflist['host_identity_verified'] = dflist['host_identity_verified'].apply(\n",
    "    lambda x: 1 if x =='t' else 0) "
   ]
  },
  {
   "cell_type": "markdown",
   "metadata": {},
   "source": [
    "# Preprocessing of host_is_superhost\n"
   ]
  },
  {
   "cell_type": "code",
   "execution_count": 20,
   "metadata": {},
   "outputs": [],
   "source": [
    "dflist['host_is_superhost']=dflist['host_is_superhost'].apply(lambda x : 1 if x=='t' else 0)"
   ]
  },
  {
   "cell_type": "code",
   "execution_count": null,
   "metadata": {},
   "outputs": [],
   "source": []
  },
  {
   "cell_type": "markdown",
   "metadata": {},
   "source": [
    "# Preporocessing to property_type\n",
    "\n",
    "Purpose  : **Organizing of List Property Type** <br>\n",
    "Method   : Before using **One Hot Encoding method**, the property type needs decrease of columns.\n",
    "\n",
    "- ['Camper/RV','Bed & Breakfast','Entire Floor','Boat','Guesthouse'] convert to 'Other'\n",
    "- ['Villa','Townhouse'] convert to 'House'\n",
    "- ['Condominium','Loft'] convert to 'Apartment'"
   ]
  },
  {
   "cell_type": "code",
   "execution_count": 21,
   "metadata": {},
   "outputs": [
    {
     "data": {
      "text/plain": [
       "Apartment          2612\n",
       "House               562\n",
       "Condominium         231\n",
       "Townhouse            54\n",
       "Bed & Breakfast      41\n",
       "Loft                 39\n",
       "Other                17\n",
       "Boat                 12\n",
       "Villa                 6\n",
       "Entire Floor          4\n",
       "Dorm                  2\n",
       "Camper/RV             1\n",
       "Guesthouse            1\n",
       "Name: property_type, dtype: int64"
      ]
     },
     "execution_count": 21,
     "metadata": {},
     "output_type": "execute_result"
    }
   ],
   "source": [
    "dflist['property_type'].value_counts()"
   ]
  },
  {
   "cell_type": "code",
   "execution_count": 22,
   "metadata": {},
   "outputs": [],
   "source": [
    "def house(z):\n",
    "    if z in ['Camper/RV','Bed & Breakfast','Entire Floor','Boat','Guesthouse']:\n",
    "        return 'Other Room'\n",
    "    elif z in ['Villa','Townhouse']:\n",
    "        return 'House'\n",
    "    elif z in ['Condominium','Loft']:\n",
    "        return 'Apartment'\n",
    "    else:\n",
    "        return z"
   ]
  },
  {
   "cell_type": "code",
   "execution_count": 23,
   "metadata": {
    "scrolled": true
   },
   "outputs": [],
   "source": [
    "dflist['property_type'] = dflist['property_type'].apply(house)"
   ]
  },
  {
   "cell_type": "markdown",
   "metadata": {},
   "source": [
    "# Preporocessing to bed_type\n",
    "\n",
    "Purpose  : **Organizing of List Bed Type** <br>\n",
    "Method   : Before using **One Hot Encoding method**, the bed type inside of rooms needs decrease of columns.\n",
    "\n",
    "- ['Futon', 'Air Bed', 'Couch', 'Sofa'] convert to 'Other'\n"
   ]
  },
  {
   "cell_type": "code",
   "execution_count": 24,
   "metadata": {},
   "outputs": [
    {
     "data": {
      "text/plain": [
       "Real Bed         3453\n",
       "Futon              51\n",
       "Airbed             40\n",
       "Pull-out Sofa      31\n",
       "Couch              10\n",
       "Name: bed_type, dtype: int64"
      ]
     },
     "execution_count": 24,
     "metadata": {},
     "output_type": "execute_result"
    }
   ],
   "source": [
    "dflist['bed_type'].value_counts()"
   ]
  },
  {
   "cell_type": "code",
   "execution_count": 25,
   "metadata": {},
   "outputs": [],
   "source": [
    "def bed(b):\n",
    "    if b == 'Real Bed':\n",
    "        return 'Real Bed'\n",
    "    else:\n",
    "        return 'Other Bed'"
   ]
  },
  {
   "cell_type": "code",
   "execution_count": 26,
   "metadata": {},
   "outputs": [],
   "source": [
    "dflist['bed_type'] = dflist['bed_type'].apply(bed)"
   ]
  },
  {
   "cell_type": "markdown",
   "metadata": {},
   "source": [
    "# Preprocessing of host_listings_count\n",
    "Purpose : Calculate of Business Category from host_listings_count<br>\n",
    "Method : Because of Outliers values are grouped.\n"
   ]
  },
  {
   "cell_type": "code",
   "execution_count": 27,
   "metadata": {},
   "outputs": [],
   "source": [
    "def bus_ind(z):\n",
    "    if z <= 13:\n",
    "        return 0\n",
    "    elif z >13 and  z <= 55 :\n",
    "        return 1\n",
    "    else:\n",
    "        return 2\n",
    "\n",
    "    \n",
    "dflist['host_listings_count'] =dflist['host_listings_count'].apply(bus_ind)"
   ]
  },
  {
   "cell_type": "code",
   "execution_count": 28,
   "metadata": {},
   "outputs": [
    {
     "data": {
      "text/plain": [
       "14822424    0\n",
       "1692573     0\n",
       "8908145     0\n",
       "12873268    0\n",
       "6742905     0\n",
       "Name: host_listings_count, dtype: int64"
      ]
     },
     "execution_count": 28,
     "metadata": {},
     "output_type": "execute_result"
    }
   ],
   "source": [
    "dflist['host_listings_count'].sample(5)"
   ]
  },
  {
   "cell_type": "code",
   "execution_count": 29,
   "metadata": {},
   "outputs": [
    {
     "data": {
      "text/html": [
       "<div>\n",
       "<style scoped>\n",
       "    .dataframe tbody tr th:only-of-type {\n",
       "        vertical-align: middle;\n",
       "    }\n",
       "\n",
       "    .dataframe tbody tr th {\n",
       "        vertical-align: top;\n",
       "    }\n",
       "\n",
       "    .dataframe thead th {\n",
       "        text-align: right;\n",
       "    }\n",
       "</style>\n",
       "<table border=\"1\" class=\"dataframe\">\n",
       "  <thead>\n",
       "    <tr style=\"text-align: right;\">\n",
       "      <th></th>\n",
       "      <th>host_response_time</th>\n",
       "      <th>host_is_superhost</th>\n",
       "      <th>host_listings_count</th>\n",
       "      <th>host_identity_verified</th>\n",
       "      <th>neighbourhood_cleansed</th>\n",
       "      <th>property_type</th>\n",
       "      <th>room_type</th>\n",
       "      <th>bathrooms</th>\n",
       "      <th>bedrooms</th>\n",
       "      <th>beds</th>\n",
       "      <th>...</th>\n",
       "      <th>availability_30</th>\n",
       "      <th>availability_60</th>\n",
       "      <th>availability_90</th>\n",
       "      <th>availability_365</th>\n",
       "      <th>number_of_reviews</th>\n",
       "      <th>review_scores_rating</th>\n",
       "      <th>require_guest_phone_verification</th>\n",
       "      <th>calculated_host_listings_count</th>\n",
       "      <th>reviews_per_month</th>\n",
       "      <th>amenities</th>\n",
       "    </tr>\n",
       "  </thead>\n",
       "  <tbody>\n",
       "    <tr>\n",
       "      <th>3353</th>\n",
       "      <td>within a few hours</td>\n",
       "      <td>0</td>\n",
       "      <td>0</td>\n",
       "      <td>1</td>\n",
       "      <td>Allston</td>\n",
       "      <td>Apartment</td>\n",
       "      <td>Private room</td>\n",
       "      <td>1.0</td>\n",
       "      <td>1.0</td>\n",
       "      <td>1.0</td>\n",
       "      <td>...</td>\n",
       "      <td>0</td>\n",
       "      <td>0</td>\n",
       "      <td>0</td>\n",
       "      <td>249</td>\n",
       "      <td>34</td>\n",
       "      <td>90.0</td>\n",
       "      <td>0</td>\n",
       "      <td>2</td>\n",
       "      <td>0.38</td>\n",
       "      <td>11</td>\n",
       "    </tr>\n",
       "    <tr>\n",
       "      <th>5506</th>\n",
       "      <td>within a day</td>\n",
       "      <td>0</td>\n",
       "      <td>0</td>\n",
       "      <td>1</td>\n",
       "      <td>Roxbury</td>\n",
       "      <td>House</td>\n",
       "      <td>Private room</td>\n",
       "      <td>1.0</td>\n",
       "      <td>1.0</td>\n",
       "      <td>1.0</td>\n",
       "      <td>...</td>\n",
       "      <td>14</td>\n",
       "      <td>39</td>\n",
       "      <td>69</td>\n",
       "      <td>344</td>\n",
       "      <td>36</td>\n",
       "      <td>91.0</td>\n",
       "      <td>0</td>\n",
       "      <td>6</td>\n",
       "      <td>0.40</td>\n",
       "      <td>8</td>\n",
       "    </tr>\n",
       "    <tr>\n",
       "      <th>6695</th>\n",
       "      <td>within a day</td>\n",
       "      <td>0</td>\n",
       "      <td>0</td>\n",
       "      <td>1</td>\n",
       "      <td>Roxbury</td>\n",
       "      <td>Apartment</td>\n",
       "      <td>Entire home/apt</td>\n",
       "      <td>1.0</td>\n",
       "      <td>1.0</td>\n",
       "      <td>2.0</td>\n",
       "      <td>...</td>\n",
       "      <td>3</td>\n",
       "      <td>19</td>\n",
       "      <td>49</td>\n",
       "      <td>324</td>\n",
       "      <td>47</td>\n",
       "      <td>95.0</td>\n",
       "      <td>0</td>\n",
       "      <td>6</td>\n",
       "      <td>0.54</td>\n",
       "      <td>18</td>\n",
       "    </tr>\n",
       "    <tr>\n",
       "      <th>6976</th>\n",
       "      <td>within a few hours</td>\n",
       "      <td>1</td>\n",
       "      <td>0</td>\n",
       "      <td>1</td>\n",
       "      <td>Roslindale</td>\n",
       "      <td>Apartment</td>\n",
       "      <td>Private room</td>\n",
       "      <td>1.0</td>\n",
       "      <td>1.0</td>\n",
       "      <td>1.0</td>\n",
       "      <td>...</td>\n",
       "      <td>19</td>\n",
       "      <td>46</td>\n",
       "      <td>61</td>\n",
       "      <td>319</td>\n",
       "      <td>41</td>\n",
       "      <td>98.0</td>\n",
       "      <td>0</td>\n",
       "      <td>1</td>\n",
       "      <td>0.47</td>\n",
       "      <td>18</td>\n",
       "    </tr>\n",
       "    <tr>\n",
       "      <th>8792</th>\n",
       "      <td>within a few hours</td>\n",
       "      <td>0</td>\n",
       "      <td>0</td>\n",
       "      <td>0</td>\n",
       "      <td>Downtown</td>\n",
       "      <td>Apartment</td>\n",
       "      <td>Entire home/apt</td>\n",
       "      <td>1.0</td>\n",
       "      <td>1.0</td>\n",
       "      <td>1.0</td>\n",
       "      <td>...</td>\n",
       "      <td>0</td>\n",
       "      <td>0</td>\n",
       "      <td>0</td>\n",
       "      <td>248</td>\n",
       "      <td>18</td>\n",
       "      <td>91.0</td>\n",
       "      <td>0</td>\n",
       "      <td>10</td>\n",
       "      <td>0.21</td>\n",
       "      <td>9</td>\n",
       "    </tr>\n",
       "    <tr>\n",
       "      <th>...</th>\n",
       "      <td>...</td>\n",
       "      <td>...</td>\n",
       "      <td>...</td>\n",
       "      <td>...</td>\n",
       "      <td>...</td>\n",
       "      <td>...</td>\n",
       "      <td>...</td>\n",
       "      <td>...</td>\n",
       "      <td>...</td>\n",
       "      <td>...</td>\n",
       "      <td>...</td>\n",
       "      <td>...</td>\n",
       "      <td>...</td>\n",
       "      <td>...</td>\n",
       "      <td>...</td>\n",
       "      <td>...</td>\n",
       "      <td>...</td>\n",
       "      <td>...</td>\n",
       "      <td>...</td>\n",
       "      <td>...</td>\n",
       "      <td>...</td>\n",
       "    </tr>\n",
       "    <tr>\n",
       "      <th>14924831</th>\n",
       "      <td>NaN</td>\n",
       "      <td>0</td>\n",
       "      <td>0</td>\n",
       "      <td>0</td>\n",
       "      <td>Charlestown</td>\n",
       "      <td>House</td>\n",
       "      <td>Private room</td>\n",
       "      <td>1.0</td>\n",
       "      <td>1.0</td>\n",
       "      <td>1.0</td>\n",
       "      <td>...</td>\n",
       "      <td>6</td>\n",
       "      <td>36</td>\n",
       "      <td>66</td>\n",
       "      <td>66</td>\n",
       "      <td>0</td>\n",
       "      <td>NaN</td>\n",
       "      <td>0</td>\n",
       "      <td>1</td>\n",
       "      <td>0.00</td>\n",
       "      <td>12</td>\n",
       "    </tr>\n",
       "    <tr>\n",
       "      <th>14928000</th>\n",
       "      <td>NaN</td>\n",
       "      <td>0</td>\n",
       "      <td>0</td>\n",
       "      <td>0</td>\n",
       "      <td>Dorchester</td>\n",
       "      <td>House</td>\n",
       "      <td>Private room</td>\n",
       "      <td>1.0</td>\n",
       "      <td>1.0</td>\n",
       "      <td>1.0</td>\n",
       "      <td>...</td>\n",
       "      <td>30</td>\n",
       "      <td>60</td>\n",
       "      <td>90</td>\n",
       "      <td>365</td>\n",
       "      <td>0</td>\n",
       "      <td>NaN</td>\n",
       "      <td>0</td>\n",
       "      <td>1</td>\n",
       "      <td>0.00</td>\n",
       "      <td>14</td>\n",
       "    </tr>\n",
       "    <tr>\n",
       "      <th>14928333</th>\n",
       "      <td>NaN</td>\n",
       "      <td>0</td>\n",
       "      <td>0</td>\n",
       "      <td>1</td>\n",
       "      <td>South Boston</td>\n",
       "      <td>Apartment</td>\n",
       "      <td>Private room</td>\n",
       "      <td>1.0</td>\n",
       "      <td>1.0</td>\n",
       "      <td>1.0</td>\n",
       "      <td>...</td>\n",
       "      <td>11</td>\n",
       "      <td>34</td>\n",
       "      <td>64</td>\n",
       "      <td>339</td>\n",
       "      <td>0</td>\n",
       "      <td>NaN</td>\n",
       "      <td>0</td>\n",
       "      <td>1</td>\n",
       "      <td>0.00</td>\n",
       "      <td>17</td>\n",
       "    </tr>\n",
       "    <tr>\n",
       "      <th>14933380</th>\n",
       "      <td>within a day</td>\n",
       "      <td>0</td>\n",
       "      <td>0</td>\n",
       "      <td>1</td>\n",
       "      <td>Jamaica Plain</td>\n",
       "      <td>Apartment</td>\n",
       "      <td>Shared room</td>\n",
       "      <td>1.0</td>\n",
       "      <td>1.0</td>\n",
       "      <td>1.0</td>\n",
       "      <td>...</td>\n",
       "      <td>25</td>\n",
       "      <td>51</td>\n",
       "      <td>81</td>\n",
       "      <td>81</td>\n",
       "      <td>0</td>\n",
       "      <td>NaN</td>\n",
       "      <td>0</td>\n",
       "      <td>2</td>\n",
       "      <td>0.00</td>\n",
       "      <td>11</td>\n",
       "    </tr>\n",
       "    <tr>\n",
       "      <th>14933461</th>\n",
       "      <td>within an hour</td>\n",
       "      <td>0</td>\n",
       "      <td>1</td>\n",
       "      <td>0</td>\n",
       "      <td>South End</td>\n",
       "      <td>Apartment</td>\n",
       "      <td>Entire home/apt</td>\n",
       "      <td>1.0</td>\n",
       "      <td>1.0</td>\n",
       "      <td>1.0</td>\n",
       "      <td>...</td>\n",
       "      <td>3</td>\n",
       "      <td>7</td>\n",
       "      <td>7</td>\n",
       "      <td>150</td>\n",
       "      <td>0</td>\n",
       "      <td>NaN</td>\n",
       "      <td>0</td>\n",
       "      <td>20</td>\n",
       "      <td>0.00</td>\n",
       "      <td>15</td>\n",
       "    </tr>\n",
       "  </tbody>\n",
       "</table>\n",
       "<p>3585 rows × 26 columns</p>\n",
       "</div>"
      ],
      "text/plain": [
       "          host_response_time  host_is_superhost  host_listings_count  \\\n",
       "3353      within a few hours                  0                    0   \n",
       "5506            within a day                  0                    0   \n",
       "6695            within a day                  0                    0   \n",
       "6976      within a few hours                  1                    0   \n",
       "8792      within a few hours                  0                    0   \n",
       "...                      ...                ...                  ...   \n",
       "14924831                 NaN                  0                    0   \n",
       "14928000                 NaN                  0                    0   \n",
       "14928333                 NaN                  0                    0   \n",
       "14933380        within a day                  0                    0   \n",
       "14933461      within an hour                  0                    1   \n",
       "\n",
       "          host_identity_verified neighbourhood_cleansed property_type  \\\n",
       "3353                           1                Allston     Apartment   \n",
       "5506                           1                Roxbury         House   \n",
       "6695                           1                Roxbury     Apartment   \n",
       "6976                           1             Roslindale     Apartment   \n",
       "8792                           0               Downtown     Apartment   \n",
       "...                          ...                    ...           ...   \n",
       "14924831                       0            Charlestown         House   \n",
       "14928000                       0             Dorchester         House   \n",
       "14928333                       1           South Boston     Apartment   \n",
       "14933380                       1          Jamaica Plain     Apartment   \n",
       "14933461                       0              South End     Apartment   \n",
       "\n",
       "                room_type  bathrooms  bedrooms  beds  ... availability_30  \\\n",
       "3353         Private room        1.0       1.0   1.0  ...               0   \n",
       "5506         Private room        1.0       1.0   1.0  ...              14   \n",
       "6695      Entire home/apt        1.0       1.0   2.0  ...               3   \n",
       "6976         Private room        1.0       1.0   1.0  ...              19   \n",
       "8792      Entire home/apt        1.0       1.0   1.0  ...               0   \n",
       "...                   ...        ...       ...   ...  ...             ...   \n",
       "14924831     Private room        1.0       1.0   1.0  ...               6   \n",
       "14928000     Private room        1.0       1.0   1.0  ...              30   \n",
       "14928333     Private room        1.0       1.0   1.0  ...              11   \n",
       "14933380      Shared room        1.0       1.0   1.0  ...              25   \n",
       "14933461  Entire home/apt        1.0       1.0   1.0  ...               3   \n",
       "\n",
       "          availability_60  availability_90  availability_365  \\\n",
       "3353                    0                0               249   \n",
       "5506                   39               69               344   \n",
       "6695                   19               49               324   \n",
       "6976                   46               61               319   \n",
       "8792                    0                0               248   \n",
       "...                   ...              ...               ...   \n",
       "14924831               36               66                66   \n",
       "14928000               60               90               365   \n",
       "14928333               34               64               339   \n",
       "14933380               51               81                81   \n",
       "14933461                7                7               150   \n",
       "\n",
       "          number_of_reviews  review_scores_rating  \\\n",
       "3353                     34                  90.0   \n",
       "5506                     36                  91.0   \n",
       "6695                     47                  95.0   \n",
       "6976                     41                  98.0   \n",
       "8792                     18                  91.0   \n",
       "...                     ...                   ...   \n",
       "14924831                  0                   NaN   \n",
       "14928000                  0                   NaN   \n",
       "14928333                  0                   NaN   \n",
       "14933380                  0                   NaN   \n",
       "14933461                  0                   NaN   \n",
       "\n",
       "          require_guest_phone_verification  calculated_host_listings_count  \\\n",
       "3353                                     0                               2   \n",
       "5506                                     0                               6   \n",
       "6695                                     0                               6   \n",
       "6976                                     0                               1   \n",
       "8792                                     0                              10   \n",
       "...                                    ...                             ...   \n",
       "14924831                                 0                               1   \n",
       "14928000                                 0                               1   \n",
       "14928333                                 0                               1   \n",
       "14933380                                 0                               2   \n",
       "14933461                                 0                              20   \n",
       "\n",
       "          reviews_per_month  amenities  \n",
       "3353                   0.38         11  \n",
       "5506                   0.40          8  \n",
       "6695                   0.54         18  \n",
       "6976                   0.47         18  \n",
       "8792                   0.21          9  \n",
       "...                     ...        ...  \n",
       "14924831               0.00         12  \n",
       "14928000               0.00         14  \n",
       "14928333               0.00         17  \n",
       "14933380               0.00         11  \n",
       "14933461               0.00         15  \n",
       "\n",
       "[3585 rows x 26 columns]"
      ]
     },
     "execution_count": 29,
     "metadata": {},
     "output_type": "execute_result"
    }
   ],
   "source": [
    "dflist=dflist[col_to_use]\n",
    "dflist"
   ]
  },
  {
   "cell_type": "code",
   "execution_count": null,
   "metadata": {},
   "outputs": [],
   "source": []
  },
  {
   "cell_type": "markdown",
   "metadata": {},
   "source": [
    "# IMPUTATION  for MISSING VALUES"
   ]
  },
  {
   "cell_type": "code",
   "execution_count": 30,
   "metadata": {},
   "outputs": [],
   "source": [
    "rooms = ['bedrooms','bathrooms','beds']\n",
    "for i in rooms:\n",
    "    dflist[i].fillna(value =0, inplace =True)"
   ]
  },
  {
   "cell_type": "code",
   "execution_count": 31,
   "metadata": {},
   "outputs": [],
   "source": [
    "dflist['property_type'].fillna('Apartment', inplace=True)"
   ]
  },
  {
   "cell_type": "code",
   "execution_count": 32,
   "metadata": {},
   "outputs": [],
   "source": [
    "dflist['host_response_time'].fillna(method='ffill', inplace =True)"
   ]
  },
  {
   "cell_type": "code",
   "execution_count": 33,
   "metadata": {},
   "outputs": [],
   "source": [
    "# These imputation is done as avg 63 due to host that had reviews less than 10 times had average 63. \n",
    "dflist['review_scores_rating'].fillna(63, inplace =True)"
   ]
  },
  {
   "cell_type": "code",
   "execution_count": 34,
   "metadata": {},
   "outputs": [
    {
     "data": {
      "text/plain": [
       "host_response_time                  0\n",
       "calculated_host_listings_count      0\n",
       "require_guest_phone_verification    0\n",
       "review_scores_rating                0\n",
       "number_of_reviews                   0\n",
       "availability_365                    0\n",
       "availability_90                     0\n",
       "availability_60                     0\n",
       "availability_30                     0\n",
       "maximum_nights                      0\n",
       "minimum_nights                      0\n",
       "extra_people                        0\n",
       "guests_included                     0\n",
       "price                               0\n",
       "bed_type                            0\n",
       "beds                                0\n",
       "bedrooms                            0\n",
       "bathrooms                           0\n",
       "room_type                           0\n",
       "property_type                       0\n",
       "neighbourhood_cleansed              0\n",
       "host_identity_verified              0\n",
       "host_listings_count                 0\n",
       "host_is_superhost                   0\n",
       "reviews_per_month                   0\n",
       "amenities                           0\n",
       "dtype: int64"
      ]
     },
     "execution_count": 34,
     "metadata": {},
     "output_type": "execute_result"
    }
   ],
   "source": [
    "dflist.isna().sum().sort_values()"
   ]
  },
  {
   "cell_type": "code",
   "execution_count": null,
   "metadata": {},
   "outputs": [],
   "source": []
  },
  {
   "cell_type": "code",
   "execution_count": 35,
   "metadata": {},
   "outputs": [
    {
     "name": "stdout",
     "output_type": "stream",
     "text": [
      "<class 'pandas.core.frame.DataFrame'>\n",
      "Int64Index: 3585 entries, 3353 to 14933461\n",
      "Data columns (total 26 columns):\n",
      " #   Column                            Non-Null Count  Dtype  \n",
      "---  ------                            --------------  -----  \n",
      " 0   host_response_time                3585 non-null   object \n",
      " 1   host_is_superhost                 3585 non-null   int64  \n",
      " 2   host_listings_count               3585 non-null   int64  \n",
      " 3   host_identity_verified            3585 non-null   int64  \n",
      " 4   neighbourhood_cleansed            3585 non-null   object \n",
      " 5   property_type                     3585 non-null   object \n",
      " 6   room_type                         3585 non-null   object \n",
      " 7   bathrooms                         3585 non-null   float64\n",
      " 8   bedrooms                          3585 non-null   float64\n",
      " 9   beds                              3585 non-null   float64\n",
      " 10  bed_type                          3585 non-null   object \n",
      " 11  price                             3585 non-null   int64  \n",
      " 12  guests_included                   3585 non-null   int64  \n",
      " 13  extra_people                      3585 non-null   int64  \n",
      " 14  minimum_nights                    3585 non-null   int64  \n",
      " 15  maximum_nights                    3585 non-null   int64  \n",
      " 16  availability_30                   3585 non-null   int64  \n",
      " 17  availability_60                   3585 non-null   int64  \n",
      " 18  availability_90                   3585 non-null   int64  \n",
      " 19  availability_365                  3585 non-null   int64  \n",
      " 20  number_of_reviews                 3585 non-null   int64  \n",
      " 21  review_scores_rating              3585 non-null   float64\n",
      " 22  require_guest_phone_verification  3585 non-null   int64  \n",
      " 23  calculated_host_listings_count    3585 non-null   int64  \n",
      " 24  reviews_per_month                 3585 non-null   float64\n",
      " 25  amenities                         3585 non-null   int64  \n",
      "dtypes: float64(5), int64(16), object(5)\n",
      "memory usage: 916.2+ KB\n"
     ]
    }
   ],
   "source": [
    "dflist.info()"
   ]
  },
  {
   "cell_type": "code",
   "execution_count": 36,
   "metadata": {},
   "outputs": [
    {
     "data": {
      "text/plain": [
       "Index(['host_response_time', 'neighbourhood_cleansed', 'property_type',\n",
       "       'room_type', 'bed_type'],\n",
       "      dtype='object')"
      ]
     },
     "execution_count": 36,
     "metadata": {},
     "output_type": "execute_result"
    }
   ],
   "source": [
    "dflist_cat  =  dflist.select_dtypes(include='object')\n",
    "dflist_cat.columns"
   ]
  },
  {
   "cell_type": "code",
   "execution_count": 37,
   "metadata": {},
   "outputs": [],
   "source": [
    "# GET DUMMI\n",
    "\n",
    "for categorical_feature in dflist_cat.columns:\n",
    "    dflist = pd.concat([dflist, pd.get_dummies(dflist[categorical_feature], drop_first=True)], axis=1)"
   ]
  },
  {
   "cell_type": "code",
   "execution_count": 38,
   "metadata": {},
   "outputs": [],
   "source": [
    "dflist.drop(dflist_cat.columns, axis=1, inplace=True)"
   ]
  },
  {
   "cell_type": "code",
   "execution_count": 39,
   "metadata": {
    "scrolled": true
   },
   "outputs": [
    {
     "data": {
      "text/plain": [
       "(3585, 55)"
      ]
     },
     "execution_count": 39,
     "metadata": {},
     "output_type": "execute_result"
    }
   ],
   "source": [
    "dflist.shape"
   ]
  },
  {
   "cell_type": "code",
   "execution_count": 40,
   "metadata": {},
   "outputs": [
    {
     "data": {
      "text/plain": [
       "Index(['host_is_superhost', 'host_listings_count', 'host_identity_verified',\n",
       "       'bathrooms', 'bedrooms', 'beds', 'price', 'guests_included',\n",
       "       'extra_people', 'minimum_nights', 'maximum_nights', 'availability_30',\n",
       "       'availability_60', 'availability_90', 'availability_365',\n",
       "       'number_of_reviews', 'review_scores_rating',\n",
       "       'require_guest_phone_verification', 'calculated_host_listings_count',\n",
       "       'reviews_per_month', 'amenities', 'within a day', 'within a few hours',\n",
       "       'within an hour', 'Back Bay', 'Bay Village', 'Beacon Hill', 'Brighton',\n",
       "       'Charlestown', 'Chinatown', 'Dorchester', 'Downtown', 'East Boston',\n",
       "       'Fenway', 'Hyde Park', 'Jamaica Plain', 'Leather District',\n",
       "       'Longwood Medical Area', 'Mattapan', 'Mission Hill', 'North End',\n",
       "       'Roslindale', 'Roxbury', 'South Boston', 'South Boston Waterfront',\n",
       "       'South End', 'West End', 'West Roxbury', 'Dorm', 'House', 'Other',\n",
       "       'Other Room', 'Private room', 'Shared room', 'Real Bed'],\n",
       "      dtype='object')"
      ]
     },
     "execution_count": 40,
     "metadata": {},
     "output_type": "execute_result"
    }
   ],
   "source": [
    "dflist.columns"
   ]
  },
  {
   "cell_type": "code",
   "execution_count": 41,
   "metadata": {},
   "outputs": [
    {
     "name": "stdout",
     "output_type": "stream",
     "text": [
      "<class 'pandas.core.frame.DataFrame'>\n",
      "Int64Index: 3585 entries, 3353 to 14933461\n",
      "Data columns (total 55 columns):\n",
      " #   Column                            Non-Null Count  Dtype  \n",
      "---  ------                            --------------  -----  \n",
      " 0   host_is_superhost                 3585 non-null   int64  \n",
      " 1   host_listings_count               3585 non-null   int64  \n",
      " 2   host_identity_verified            3585 non-null   int64  \n",
      " 3   bathrooms                         3585 non-null   float64\n",
      " 4   bedrooms                          3585 non-null   float64\n",
      " 5   beds                              3585 non-null   float64\n",
      " 6   price                             3585 non-null   int64  \n",
      " 7   guests_included                   3585 non-null   int64  \n",
      " 8   extra_people                      3585 non-null   int64  \n",
      " 9   minimum_nights                    3585 non-null   int64  \n",
      " 10  maximum_nights                    3585 non-null   int64  \n",
      " 11  availability_30                   3585 non-null   int64  \n",
      " 12  availability_60                   3585 non-null   int64  \n",
      " 13  availability_90                   3585 non-null   int64  \n",
      " 14  availability_365                  3585 non-null   int64  \n",
      " 15  number_of_reviews                 3585 non-null   int64  \n",
      " 16  review_scores_rating              3585 non-null   float64\n",
      " 17  require_guest_phone_verification  3585 non-null   int64  \n",
      " 18  calculated_host_listings_count    3585 non-null   int64  \n",
      " 19  reviews_per_month                 3585 non-null   float64\n",
      " 20  amenities                         3585 non-null   int64  \n",
      " 21  within a day                      3585 non-null   uint8  \n",
      " 22  within a few hours                3585 non-null   uint8  \n",
      " 23  within an hour                    3585 non-null   uint8  \n",
      " 24  Back Bay                          3585 non-null   uint8  \n",
      " 25  Bay Village                       3585 non-null   uint8  \n",
      " 26  Beacon Hill                       3585 non-null   uint8  \n",
      " 27  Brighton                          3585 non-null   uint8  \n",
      " 28  Charlestown                       3585 non-null   uint8  \n",
      " 29  Chinatown                         3585 non-null   uint8  \n",
      " 30  Dorchester                        3585 non-null   uint8  \n",
      " 31  Downtown                          3585 non-null   uint8  \n",
      " 32  East Boston                       3585 non-null   uint8  \n",
      " 33  Fenway                            3585 non-null   uint8  \n",
      " 34  Hyde Park                         3585 non-null   uint8  \n",
      " 35  Jamaica Plain                     3585 non-null   uint8  \n",
      " 36  Leather District                  3585 non-null   uint8  \n",
      " 37  Longwood Medical Area             3585 non-null   uint8  \n",
      " 38  Mattapan                          3585 non-null   uint8  \n",
      " 39  Mission Hill                      3585 non-null   uint8  \n",
      " 40  North End                         3585 non-null   uint8  \n",
      " 41  Roslindale                        3585 non-null   uint8  \n",
      " 42  Roxbury                           3585 non-null   uint8  \n",
      " 43  South Boston                      3585 non-null   uint8  \n",
      " 44  South Boston Waterfront           3585 non-null   uint8  \n",
      " 45  South End                         3585 non-null   uint8  \n",
      " 46  West End                          3585 non-null   uint8  \n",
      " 47  West Roxbury                      3585 non-null   uint8  \n",
      " 48  Dorm                              3585 non-null   uint8  \n",
      " 49  House                             3585 non-null   uint8  \n",
      " 50  Other                             3585 non-null   uint8  \n",
      " 51  Other Room                        3585 non-null   uint8  \n",
      " 52  Private room                      3585 non-null   uint8  \n",
      " 53  Shared room                       3585 non-null   uint8  \n",
      " 54  Real Bed                          3585 non-null   uint8  \n",
      "dtypes: float64(5), int64(16), uint8(34)\n",
      "memory usage: 895.2 KB\n"
     ]
    }
   ],
   "source": [
    "dflist.info()"
   ]
  },
  {
   "cell_type": "code",
   "execution_count": null,
   "metadata": {},
   "outputs": [],
   "source": []
  },
  {
   "cell_type": "markdown",
   "metadata": {},
   "source": []
  },
  {
   "cell_type": "code",
   "execution_count": null,
   "metadata": {},
   "outputs": [],
   "source": [
    "df_num = dflist.corr()\n",
    "df_num"
   ]
  },
  {
   "cell_type": "code",
   "execution_count": null,
   "metadata": {},
   "outputs": [],
   "source": [
    "import seaborn as sns\n",
    "import matplotlib.pyplot as plt\n",
    "%matplotlib inline\n",
    "plt.figure(figsize=(16,14))\n",
    "sns.heatmap(df_num, annot =True)\n",
    "plt.show()"
   ]
  },
  {
   "cell_type": "code",
   "execution_count": 79,
   "metadata": {},
   "outputs": [],
   "source": [
    "dflist_f = dflist.query('price <= 475')"
   ]
  },
  {
   "cell_type": "code",
   "execution_count": 80,
   "metadata": {},
   "outputs": [],
   "source": [
    "y = dflist_f['price']"
   ]
  },
  {
   "cell_type": "code",
   "execution_count": 81,
   "metadata": {},
   "outputs": [],
   "source": [
    "X = dflist_f.drop(['price'], axis = 1)\n",
    "X = X.values"
   ]
  },
  {
   "cell_type": "code",
   "execution_count": 82,
   "metadata": {},
   "outputs": [
    {
     "data": {
      "text/plain": [
       "(3492,)"
      ]
     },
     "metadata": {},
     "output_type": "display_data"
    },
    {
     "data": {
      "text/plain": [
       "(3492, 54)"
      ]
     },
     "metadata": {},
     "output_type": "display_data"
    },
    {
     "data": {
      "text/plain": [
       "pandas.core.series.Series"
      ]
     },
     "metadata": {},
     "output_type": "display_data"
    },
    {
     "data": {
      "text/plain": [
       "numpy.ndarray"
      ]
     },
     "metadata": {},
     "output_type": "display_data"
    }
   ],
   "source": [
    "display(y.shape)\n",
    "display(X.shape)\n",
    "display(type(y))\n",
    "display(type(X))"
   ]
  },
  {
   "cell_type": "code",
   "execution_count": 83,
   "metadata": {},
   "outputs": [],
   "source": [
    "from sklearn.linear_model import LinearRegression\n",
    "from sklearn.metrics import r2_score\n",
    "\n",
    "lr = LinearRegression()"
   ]
  },
  {
   "cell_type": "code",
   "execution_count": 84,
   "metadata": {},
   "outputs": [],
   "source": [
    "from sklearn.model_selection import train_test_split\n",
    "\n",
    "X_train, X_test, y_train, y_test = train_test_split(X, y, test_size=0.3, random_state=8)\n"
   ]
  },
  {
   "cell_type": "code",
   "execution_count": 85,
   "metadata": {},
   "outputs": [
    {
     "name": "stdout",
     "output_type": "stream",
     "text": [
      "test prediction score  = 0.6924150023606053\n",
      "train prediction score = 0.6601067438042832\n"
     ]
    }
   ],
   "source": [
    "lr.fit(X_train,y_train)\n",
    "\n",
    "y_train_pred = lr.predict(X_train)\n",
    "y_test_pred = lr.predict(X_test)\n",
    "\n",
    "#print(lr.score(y_test_pred,y_test))\n",
    "print('test prediction score  =',r2_score(y_test,y_test_pred))\n",
    "print('train prediction score =',r2_score(y_train,y_train_pred))"
   ]
  }
 ],
 "metadata": {
  "kernelspec": {
   "display_name": "Python 3",
   "language": "python",
   "name": "python3"
  },
  "language_info": {
   "codemirror_mode": {
    "name": "ipython",
    "version": 3
   },
   "file_extension": ".py",
   "mimetype": "text/x-python",
   "name": "python",
   "nbconvert_exporter": "python",
   "pygments_lexer": "ipython3",
   "version": "3.7.7"
  }
 },
 "nbformat": 4,
 "nbformat_minor": 2
}
